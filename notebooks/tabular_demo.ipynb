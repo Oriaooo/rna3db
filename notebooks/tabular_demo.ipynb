{
 "cells": [
  {
   "cell_type": "markdown",
   "metadata": {},
   "source": [
    "# Tabular Examples\n",
    "RNA3DB contains `Tabular`, a high-level API for interacting with Infernal's output tables for `cmscan`.\n",
    "\n",
    "Using the `.tbl` files we provide, we can look up Rfam family information for any RNA chain in the PDB."
   ]
  },
  {
   "cell_type": "code",
   "execution_count": 1,
   "metadata": {},
   "outputs": [],
   "source": [
    "# read an entire directory of *.tbl files, such as those provided with the release of RNA3DB\n",
    "from rna3db.tabular import read_tbls_from_dir\n",
    "tbl = read_tbls_from_dir('../data/cmscans/')"
   ]
  },
  {
   "cell_type": "code",
   "execution_count": 2,
   "metadata": {},
   "outputs": [
    {
     "data": {
      "text/plain": [
       "target_name         target_accession    query_name          score               e_value             \n",
       "----------------------------------------------------------------------------------------------------\n",
       "LSU_rRNA_bacteria   RF02541             7pkt_7              333.9               2.7e-109            \n",
       "LSU_rRNA_archaea    RF02540             7pkt_7              225.7               1.8e-69             \n",
       "LSU_rRNA_eukarya    RF02543             7pkt_7              151.5               6.9e-39             \n",
       "TMV_UPD-PK3         RF01072             7pkt_7              14.5                0.67                \n",
       "DENV_SLA            RF02340             7pkt_7              16.5                3.3                 "
      ]
     },
     "execution_count": 2,
     "metadata": {},
     "output_type": "execute_result"
    }
   ],
   "source": [
    "# we can query all the hits for any chain and get a formatted table\n",
    "tbl['7pkt_7']"
   ]
  },
  {
   "cell_type": "markdown",
   "metadata": {},
   "source": [
    "These hits are sorted by E-value, and contain all hits for a chain. \n",
    "\n",
    "All queries return a `Tabular` object, which we can do further queries on. For example, we can also filter these hits by E-value."
   ]
  },
  {
   "cell_type": "code",
   "execution_count": 3,
   "metadata": {},
   "outputs": [
    {
     "data": {
      "text/plain": [
       "target_name         target_accession    query_name          score               e_value             \n",
       "----------------------------------------------------------------------------------------------------\n",
       "LSU_rRNA_bacteria   RF02541             7pkt_7              333.9               2.7e-109            \n",
       "LSU_rRNA_archaea    RF02540             7pkt_7              225.7               1.8e-69             \n",
       "LSU_rRNA_eukarya    RF02543             7pkt_7              151.5               6.9e-39             "
      ]
     },
     "execution_count": 3,
     "metadata": {},
     "output_type": "execute_result"
    }
   ],
   "source": [
    "# filter hits by E-value\n",
    "tbl['7pkt_7'].filter_e_value(1e-20)"
   ]
  },
  {
   "cell_type": "markdown",
   "metadata": {},
   "source": [
    "`Tabular` objects are also iterators comprised of `Hit`s. A singular `Hit` has the same attributes as Infernal hits table format 1, with some minor modifications to naming:\n",
    "- `target_name`\n",
    "- `target_accession`\n",
    "- `query_name`\n",
    "- `query_accession`\n",
    "- `mdl`\n",
    "- `mdl_from`\n",
    "- `mdl_to`\n",
    "- `seq_from`\n",
    "- `seq_to`\n",
    "- `strand`\n",
    "- `trunc`\n",
    "- `pass_n`\n",
    "- `gc`\n",
    "- `bias`\n",
    "- `score`\n",
    "- `e_value`\n",
    "- `inc`\n",
    "- `description_of_target`\n",
    "\n",
    "For more information about these attributes, see the [Infernal Userguide](http://eddylab.org/infernal/Userguide.pdf).\n"
   ]
  },
  {
   "cell_type": "code",
   "execution_count": 4,
   "metadata": {},
   "outputs": [
    {
     "name": "stdout",
     "output_type": "stream",
     "text": [
      "7pkt_7 Bacterial large subunit ribosomal RNA\n",
      "7pkt_7 Archaeal large subunit ribosomal RNA\n",
      "7pkt_7 Eukaryotic large subunit ribosomal RNA\n",
      "7pkt_7 Pseudoknot of upstream pseudoknot domain (UPD) of the 3'UTR\n",
      "7pkt_7 Dengue virus SLA\n"
     ]
    }
   ],
   "source": [
    "# we can use Tabular objects as iterators\n",
    "for hit in tbl['7pkt_7']:\n",
    "    # we can access a Hit's attributes via dot notation\n",
    "    print(hit.query_name, hit.description_of_target)"
   ]
  },
  {
   "cell_type": "markdown",
   "metadata": {},
   "source": [
    "These attributes can also be accessed in `Tabular` objects with dot notation, which will then return a list of that attribute from the table.\n",
    "\n",
    "This has various uses, such as getting all the Rfam accessions of a query, for example."
   ]
  },
  {
   "cell_type": "code",
   "execution_count": 5,
   "metadata": {},
   "outputs": [
    {
     "data": {
      "text/plain": [
       "['RF02541', 'RF02540', 'RF02543']"
      ]
     },
     "execution_count": 5,
     "metadata": {},
     "output_type": "execute_result"
    }
   ],
   "source": [
    "# we can chain queries on Tabular objects\n",
    "tbl['7pkt_7'].filter_e_value(1e-3).target_accession"
   ]
  },
  {
   "cell_type": "markdown",
   "metadata": {},
   "source": [
    "We can also find the best hit for every chain in the query with `top_hits`. This will take the lowerst E-value hit for every chain.\n",
    "\n",
    "For example, we can get the top hit for every chain that gets at least one hit with E-value < `1e-3`."
   ]
  },
  {
   "cell_type": "code",
   "execution_count": 6,
   "metadata": {},
   "outputs": [
    {
     "data": {
      "text/plain": [
       "target_name         target_accession    query_name          score               e_value             \n",
       "----------------------------------------------------------------------------------------------------\n",
       "SSU_rRNA_bacteria   RF00177             5uyq_A              1564.7              0.0                 \n",
       "LSU_rRNA_bacteria   RF02541             5uyq_01             2879.9              0.0                 \n",
       "SSU_rRNA_bacteria   RF00177             3jbv_A              1577.5              0.0                 \n",
       "LSU_rRNA_bacteria   RF02541             3jbv_b              2889.8              0.0                 \n",
       "SSU_rRNA_bacteria   RF00177             8cf8_A              1565.8              0.0                 \n",
       "SSU_rRNA_bacteria   RF00177             5no2_A              1558.3              0.0                 \n",
       "LSU_rRNA_archaea    RF02540             3ow2_0              2776.4              0.0                 \n",
       "LSU_rRNA_bacteria   RF02541             7o5b_X              2986.5              0.0                 \n",
       "SSU_rRNA_bacteria   RF00177             7o5b_A              1606.5              0.0                 \n",
       "SSU_rRNA_eukarya    RF01960             5juu_A              1812.3              0.0                 \n",
       "LSU_rRNA_eukarya    RF02543             5juu_B              3401.6              0.0                 \n",
       "LSU_rRNA_bacteria   RF02541             7pam_3              2658.1              0.0                 \n",
       "SSU_rRNA_bacteria   RF00177             7pam_5              1446.4              0.0                 \n",
       "SSU_rRNA_eukarya    RF01960             3jbp_A              1469.3              0.0                 \n",
       "LSU_rRNA_eukarya    RF02543             3jbp_AA             2483.3              0.0                 \n",
       "... (10365 rows hidden)"
      ]
     },
     "execution_count": 6,
     "metadata": {},
     "output_type": "execute_result"
    }
   ],
   "source": [
    "# get the top hits for each chain that matches the query\n",
    "tbl.filter_e_value(1e-3).top_hits"
   ]
  },
  {
   "cell_type": "markdown",
   "metadata": {},
   "source": [
    "`Tabular` objects support the `len` function."
   ]
  },
  {
   "cell_type": "code",
   "execution_count": 7,
   "metadata": {},
   "outputs": [
    {
     "data": {
      "text/plain": [
       "10380"
      ]
     },
     "execution_count": 7,
     "metadata": {},
     "output_type": "execute_result"
    }
   ],
   "source": [
    "# get number of chains that have a hit with E-value lower than 1e-3\n",
    "len(tbl.filter_e_value(1e-3).top_hits)"
   ]
  },
  {
   "cell_type": "markdown",
   "metadata": {},
   "source": [
    "It is also possible to query any attribute via the `filter_attr_by_set` and `filter_attr_by_value` methods.\n",
    "\n",
    "You may wish to, for example, get hits for all the tRNA (`RF00005`) Rfam family."
   ]
  },
  {
   "cell_type": "code",
   "execution_count": 8,
   "metadata": {},
   "outputs": [
    {
     "data": {
      "text/plain": [
       "target_name         target_accession    query_name          score               e_value             \n",
       "----------------------------------------------------------------------------------------------------\n",
       "tRNA                RF00005             5uyq_Y              78.5                8.4e-19             \n",
       "tRNA                RF00005             5e7k_3K             78.5                8.4e-19             \n",
       "tRNA                RF00005             5e7k_1L             78.5                8.4e-19             \n",
       "tRNA                RF00005             5e7k_3L             78.5                8.4e-19             \n",
       "tRNA                RF00005             5el4_1K             78.5                8.4e-19             \n",
       "tRNA                RF00005             5el4_3K             78.5                8.4e-19             \n",
       "tRNA                RF00005             5el4_1L             78.5                8.4e-19             \n",
       "tRNA                RF00005             5el4_3L             78.5                8.4e-19             \n",
       "tRNA                RF00005             5ib7_1K             78.5                8.4e-19             \n",
       "tRNA                RF00005             5ib7_1L             78.5                8.4e-19             \n",
       "tRNA                RF00005             5ib7_3L             78.5                8.4e-19             \n",
       "tRNA                RF00005             5ib7_3K             78.5                8.4e-19             \n",
       "tRNA                RF00005             7n2c_Pt             78.5                8.4e-19             \n",
       "tRNA                RF00005             5uyn_Y              78.5                8.4e-19             \n",
       "tRNA                RF00005             5gak_A              78.5                8.4e-19             \n",
       "... (2603 rows hidden)"
      ]
     },
     "execution_count": 8,
     "metadata": {},
     "output_type": "execute_result"
    }
   ],
   "source": [
    "# we can filter by any attribute\n",
    "tbl.filter_attr_by_value('target_accession', 'RF00005')"
   ]
  },
  {
   "cell_type": "markdown",
   "metadata": {},
   "source": [
    "The `filter_attr_by_set` method does the same thing as `filter_attr_by_value`, but we can provide a list rather than a single value.\n",
    "\n",
    "This can be useful in many cases, such as trying to get hits for all tRNA clans."
   ]
  },
  {
   "cell_type": "code",
   "execution_count": 9,
   "metadata": {},
   "outputs": [
    {
     "data": {
      "text/plain": [
       "target_name         target_accession    query_name          score               e_value             \n",
       "----------------------------------------------------------------------------------------------------\n",
       "tmRNA               RF00023             6q98_4              231.6               1.1e-68             \n",
       "tmRNA               RF00023             7ac7_4              231.6               1.1e-68             \n",
       "tmRNA               RF00023             6q9a_4              231.6               1.1e-68             \n",
       "tmRNA               RF00023             7acj_4              231.6               1.1e-68             \n",
       "tmRNA               RF00023             4v6t_AV             231.6               1.1e-68             \n",
       "tmRNA               RF00023             7abz_4              231.6               1.1e-68             \n",
       "tmRNA               RF00023             7acr_4              231.6               1.1e-68             \n",
       "tmRNA               RF00023             6q97_4              229.4               5.1e-68             \n",
       "tmRNA               RF00023             3iz4_A              216.6               4.3e-64             \n",
       "tmRNA               RF00023             3iyq_A              159.0               1.6e-46             \n",
       "tmRNA               RF00023             3iyr_A              159.0               1.6e-46             \n",
       "tmRNA               RF00023             6q95_4              159.0               1.6e-46             \n",
       "tmRNA               RF00023             2ob7_A              142.9               1.3e-41             \n",
       "tmRNA               RF00023             5zey_A              124.5               6.1e-36             \n",
       "tmRNA               RF00023             4v8q_BY             71.7                2.1e-20             \n",
       "... (8454 rows hidden)"
      ]
     },
     "execution_count": 9,
     "metadata": {},
     "output_type": "execute_result"
    }
   ],
   "source": [
    "# all Rfam accessions of tRNA clan\n",
    "trna_clan = ['RF00005', 'RF00023', 'RF01849', 'RF01850', 'RF01851', 'RF01852', 'RF02544']\n",
    "tbl.filter_attr_by_set('target_accession', trna_clan)"
   ]
  },
  {
   "cell_type": "markdown",
   "metadata": {},
   "source": [
    "Putting these together, we can make some more complex queries.\n",
    "\n",
    "For example, if we wanted to find out how many chains have a hit to the tRNA clan with an E-value lower than `1e-3`, we can do:"
   ]
  },
  {
   "cell_type": "code",
   "execution_count": 10,
   "metadata": {},
   "outputs": [
    {
     "data": {
      "text/plain": [
       "2511"
      ]
     },
     "execution_count": 10,
     "metadata": {},
     "output_type": "execute_result"
    }
   ],
   "source": [
    "# filter to the tRNA clan, to 1e-3 E-value, get a list of query_names, make it a set, get length\n",
    "len(set(tbl.filter_attr_by_set('target_accession', trna_clan).filter_e_value(1e-3).query_name))"
   ]
  },
  {
   "cell_type": "code",
   "execution_count": null,
   "metadata": {},
   "outputs": [],
   "source": []
  }
 ],
 "metadata": {
  "kernelspec": {
   "display_name": "rna3db",
   "language": "python",
   "name": "python3"
  },
  "language_info": {
   "codemirror_mode": {
    "name": "ipython",
    "version": 3
   },
   "file_extension": ".py",
   "mimetype": "text/x-python",
   "name": "python",
   "nbconvert_exporter": "python",
   "pygments_lexer": "ipython3",
   "version": "3.10.12"
  }
 },
 "nbformat": 4,
 "nbformat_minor": 2
}
